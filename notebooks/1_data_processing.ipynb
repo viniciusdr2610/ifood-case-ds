{
  "cells": [
    {
      "cell_type": "markdown",
      "metadata": {},
      "source": [
        "# Configuração do Ambiente\n",
        "\n",
        "PySpark e importação das bibliotecas necessárias para o processamento dos dados.\n"
      ]
    },
    {
      "cell_type": "code",
      "execution_count": 1,
      "metadata": {},
      "outputs": [],
      "source": [
        "import warnings\n",
        "warnings.filterwarnings('ignore')\n",
        "\n",
        "# Core libraries\n",
        "from pathlib import Path\n",
        "import sys\n",
        "\n",
        "# PySpark and Utils\n",
        "try:\n",
        "    sys.path.append(str(Path.cwd().parent / \"src\"))\n",
        "    from pyspark.sql.functions import *\n",
        "    import pyspark.sql.functions as F\n",
        "    from pyspark.sql.types import *\n",
        "    from pyspark.sql.window import Window\n",
        "    from utils import create_spark_session, load_json_data, display_data_info_spark\n",
        "except ImportError as e:\n",
        "    print(f\"Import PySpark Error : {e}\")    \n",
        "    raise\n",
        "\n"
      ]
    },
    {
      "cell_type": "markdown",
      "metadata": {},
      "source": [
        "# PySpark e configuração dos paths"
      ]
    },
    {
      "cell_type": "code",
      "execution_count": 2,
      "metadata": {},
      "outputs": [
        {
          "name": "stderr",
          "output_type": "stream",
          "text": [
            "WARNING: Using incubator modules: jdk.incubator.vector\n",
            "Using Spark's default log4j profile: org/apache/spark/log4j2-defaults.properties\n",
            "Setting default log level to \"WARN\".\n",
            "To adjust logging level use sc.setLogLevel(newLevel). For SparkR, use setLogLevel(newLevel).\n",
            "25/08/13 08:35:52 WARN NativeCodeLoader: Unable to load native-hadoop library for your platform... using builtin-java classes where applicable\n",
            "25/08/13 08:35:53 WARN Utils: Service 'SparkUI' could not bind on port 4040. Attempting port 4041.\n"
          ]
        },
        {
          "name": "stdout",
          "output_type": "stream",
          "text": [
            "project_root: /Users/viniciusromano/vinicius/ifood-case\n",
            "data_raw_path: /Users/viniciusromano/vinicius/ifood-case/data/raw\n",
            "data_processed_path: /Users/viniciusromano/vinicius/ifood-case/data/processed\n"
          ]
        }
      ],
      "source": [
        "# Criando Spark\n",
        "spark = create_spark_session()\n",
        "\n",
        "# Configuração de paths\n",
        "project_root = Path.cwd().parent\n",
        "data_raw_path = project_root / \"data\" / \"raw\"\n",
        "data_processed_path = project_root / \"data\" / \"processed\"\n",
        "\n",
        "print(f\"project_root: {project_root}\")\n",
        "print(f\"data_raw_path: {data_raw_path}\")\n",
        "print(f\"data_processed_path: {data_processed_path}\")"
      ]
    },
    {
      "cell_type": "markdown",
      "metadata": {},
      "source": [
        "# Carregamento dos Dados\n",
        "\n",
        "Carregamento dos três datasets principais:\n",
        "- **offers.json**: Metadados das ofertas (tipos, valores, canais)\n",
        "- **profile.json**: Perfis dos clientes (~17k registros)\n",
        "- **transactions.json**: Eventos e transações (~300k registros)\n"
      ]
    },
    {
      "cell_type": "code",
      "execution_count": 3,
      "metadata": {},
      "outputs": [
        {
          "name": "stdout",
          "output_type": "stream",
          "text": [
            "Carregando: /Users/viniciusromano/vinicius/ifood-case/data/raw/offers.json\n",
            "Carregando: /Users/viniciusromano/vinicius/ifood-case/data/raw/profile.json\n",
            "Carregando: /Users/viniciusromano/vinicius/ifood-case/data/raw/transactions.json\n"
          ]
        }
      ],
      "source": [
        "offers_df_raw = load_json_data(data_raw_path / \"offers.json\", spark)\n",
        "profile_df_raw  = load_json_data(data_raw_path / \"profile.json\", spark)\n",
        "transactions_df_raw = load_json_data(data_raw_path / \"transactions.json\", spark)\n"
      ]
    },
    {
      "cell_type": "code",
      "execution_count": 4,
      "metadata": {},
      "outputs": [
        {
          "name": "stdout",
          "output_type": "stream",
          "text": [
            "\n",
            "INFORMATIONS - OFFERS\n",
            "📏 Row Count: (10)\n",
            "🔍 Columns: ['channels', 'discount_value', 'duration', 'id', 'min_value', 'offer_type']\n",
            "root\n",
            " |-- channels: array (nullable = true)\n",
            " |    |-- element: string (containsNull = true)\n",
            " |-- discount_value: long (nullable = true)\n",
            " |-- duration: double (nullable = true)\n",
            " |-- id: string (nullable = true)\n",
            " |-- min_value: long (nullable = true)\n",
            " |-- offer_type: string (nullable = true)\n",
            "\n",
            "First 3 rows:\n",
            "+----------------------------+--------------+--------+--------------------------------+---------+-------------+\n",
            "|channels                    |discount_value|duration|id                              |min_value|offer_type   |\n",
            "+----------------------------+--------------+--------+--------------------------------+---------+-------------+\n",
            "|[email, mobile, social]     |10            |7.0     |ae264e3637204a6fb9bb56bc8210ddfd|10       |bogo         |\n",
            "|[web, email, mobile, social]|10            |5.0     |4d5c57ea9a6940dd891ad53e9dbe8da0|10       |bogo         |\n",
            "|[web, email, mobile]        |0             |4.0     |3f207df678b143eea3cee63160fa8bed|0        |informational|\n",
            "+----------------------------+--------------+--------+--------------------------------+---------+-------------+\n",
            "only showing top 3 rows\n",
            "\n",
            "INFORMATIONS - PROFILE\n",
            "📏 Row Count: (17000)\n",
            "🔍 Columns: ['age', 'credit_card_limit', 'gender', 'id', 'registered_on']\n",
            "root\n",
            " |-- age: long (nullable = true)\n",
            " |-- credit_card_limit: double (nullable = true)\n",
            " |-- gender: string (nullable = true)\n",
            " |-- id: string (nullable = true)\n",
            " |-- registered_on: string (nullable = true)\n",
            "\n",
            "First 3 rows:\n",
            "+---+-----------------+------+--------------------------------+-------------+\n",
            "|age|credit_card_limit|gender|id                              |registered_on|\n",
            "+---+-----------------+------+--------------------------------+-------------+\n",
            "|118|NULL             |NULL  |68be06ca386d4c31939f3a4f0e3dd783|20170212     |\n",
            "|55 |112000.0         |F     |0610b486422d4921ae7d2bf64640c50b|20170715     |\n",
            "|118|NULL             |NULL  |38fe809add3b4fcf9315a9694bb96ff5|20180712     |\n",
            "+---+-----------------+------+--------------------------------+-------------+\n",
            "only showing top 3 rows\n",
            "\n",
            "INFORMATIONS - TRANSACTIONS\n",
            "📏 Row Count: (306534)\n",
            "🔍 Columns: ['account_id', 'event', 'time_since_test_start', 'value']\n",
            "root\n",
            " |-- account_id: string (nullable = true)\n",
            " |-- event: string (nullable = true)\n",
            " |-- time_since_test_start: double (nullable = true)\n",
            " |-- value: struct (nullable = true)\n",
            " |    |-- amount: double (nullable = true)\n",
            " |    |-- offer id: string (nullable = true)\n",
            " |    |-- offer_id: string (nullable = true)\n",
            " |    |-- reward: double (nullable = true)\n",
            "\n",
            "First 3 rows:\n",
            "+--------------------------------+--------------+---------------------+----------------------------------------------------+\n",
            "|account_id                      |event         |time_since_test_start|value                                               |\n",
            "+--------------------------------+--------------+---------------------+----------------------------------------------------+\n",
            "|78afa995795e4d85b5d9ceeca43f5fef|offer received|0.0                  |{NULL, 9b98b8c7a33c4b65b9aebfe6a799e6d9, NULL, NULL}|\n",
            "|a03223e636434f42ac4c3df47e8bac43|offer received|0.0                  |{NULL, 0b1e1539f2cc45b7b9fa7c272da2e1d7, NULL, NULL}|\n",
            "|e2127556f4f64592b11af22de27a7932|offer received|0.0                  |{NULL, 2906b810c7d4411798c6938adc9daaa5, NULL, NULL}|\n",
            "+--------------------------------+--------------+---------------------+----------------------------------------------------+\n",
            "only showing top 3 rows\n"
          ]
        }
      ],
      "source": [
        "display_data_info_spark(offers_df_raw, \"OFFERS\")\n",
        "display_data_info_spark(profile_df_raw, \"PROFILE\")\n",
        "display_data_info_spark(transactions_df_raw, \"TRANSACTIONS\")"
      ]
    },
    {
      "cell_type": "markdown",
      "metadata": {},
      "source": [
        "# Transformação dos Dados - \"Offers\"\n",
        "- \"One-hot encoding\" de dos tipos de ofertas e canais"
      ]
    },
    {
      "cell_type": "code",
      "execution_count": 5,
      "metadata": {},
      "outputs": [
        {
          "name": "stdout",
          "output_type": "stream",
          "text": [
            "\n",
            "INFORMATIONS - OFFERS\n",
            "📏 Row Count: (10)\n",
            "🔍 Columns: ['discount_value', 'duration', 'offer_id', 'min_value', 'offer_type_discount', 'offer_type_bogo', 'offer_type_informational', 'channel_web', 'channel_email', 'channel_mobile', 'channel_social']\n",
            "root\n",
            " |-- discount_value: long (nullable = true)\n",
            " |-- duration: double (nullable = true)\n",
            " |-- offer_id: string (nullable = true)\n",
            " |-- min_value: long (nullable = true)\n",
            " |-- offer_type_discount: integer (nullable = false)\n",
            " |-- offer_type_bogo: integer (nullable = false)\n",
            " |-- offer_type_informational: integer (nullable = false)\n",
            " |-- channel_web: integer (nullable = false)\n",
            " |-- channel_email: integer (nullable = false)\n",
            " |-- channel_mobile: integer (nullable = false)\n",
            " |-- channel_social: integer (nullable = false)\n",
            "\n",
            "First 3 rows:\n",
            "+--------------+--------+--------------------------------+---------+-------------------+---------------+------------------------+-----------+-------------+--------------+--------------+\n",
            "|discount_value|duration|offer_id                        |min_value|offer_type_discount|offer_type_bogo|offer_type_informational|channel_web|channel_email|channel_mobile|channel_social|\n",
            "+--------------+--------+--------------------------------+---------+-------------------+---------------+------------------------+-----------+-------------+--------------+--------------+\n",
            "|10            |7.0     |ae264e3637204a6fb9bb56bc8210ddfd|10       |0                  |1              |0                       |0          |1            |1             |1             |\n",
            "|10            |5.0     |4d5c57ea9a6940dd891ad53e9dbe8da0|10       |0                  |1              |0                       |1          |1            |1             |1             |\n",
            "|0             |4.0     |3f207df678b143eea3cee63160fa8bed|0        |0                  |0              |1                       |1          |1            |1             |0             |\n",
            "+--------------+--------+--------------------------------+---------+-------------------+---------------+------------------------+-----------+-------------+--------------+--------------+\n",
            "only showing top 3 rows\n"
          ]
        }
      ],
      "source": [
        "offers_df = offers_df_raw.withColumnRenamed(\"id\", \"offer_id\")\n",
        "\n",
        "offers_df = offers_df \\\n",
        "       .withColumn(\"offer_type_discount\", when(col(\"offer_type\") == \"discount\", 1).otherwise(0)) \\\n",
        "       .withColumn(\"offer_type_bogo\", when(col(\"offer_type\") == \"bogo\", 1).otherwise(0)) \\\n",
        "       .withColumn(\"offer_type_informational\", when(col(\"offer_type\") == \"informational\", 1).otherwise(0)) \\\n",
        "       .withColumn(\"channel_web\", when(array_contains(col(\"channels\"), \"web\"), 1).otherwise(0)) \\\n",
        "       .withColumn(\"channel_email\", when(array_contains(col(\"channels\"), \"email\"), 1).otherwise(0)) \\\n",
        "       .withColumn(\"channel_mobile\", when(array_contains(col(\"channels\"), \"mobile\"), 1).otherwise(0)) \\\n",
        "       .withColumn(\"channel_social\", when(array_contains(col(\"channels\"), \"social\"), 1).otherwise(0)) \\\n",
        "       .drop(\"channels\", \"offer_type\")\n",
        "\n",
        "display_data_info_spark(offers_df, \"OFFERS\")"
      ]
    },
    {
      "cell_type": "markdown",
      "metadata": {},
      "source": [
        "# Transformação dos Dados - \"Profile\"\n",
        "\n",
        "-\t\"One-hot encoding\" de genero → colunas gender_F, gender_M, gender_O.\n",
        "-\tConverte registered_on para data\n",
        "-\tTrata valores inválidos em idade (118 → null)."
      ]
    },
    {
      "cell_type": "code",
      "execution_count": 6,
      "metadata": {},
      "outputs": [
        {
          "name": "stdout",
          "output_type": "stream",
          "text": [
            "\n",
            "INFORMATIONS - OFFERS\n",
            "📏 Row Count: (17000)\n",
            "🔍 Columns: ['age', 'credit_card_limit', 'profile_id', 'gender_F', 'gender_M', 'gender_O', 'days_since_registration']\n",
            "root\n",
            " |-- age: long (nullable = true)\n",
            " |-- credit_card_limit: double (nullable = true)\n",
            " |-- profile_id: string (nullable = true)\n",
            " |-- gender_F: integer (nullable = false)\n",
            " |-- gender_M: integer (nullable = false)\n",
            " |-- gender_O: integer (nullable = false)\n",
            " |-- days_since_registration: integer (nullable = true)\n",
            "\n",
            "First 3 rows:\n",
            "+----+-----------------+--------------------------------+--------+--------+--------+-----------------------+\n",
            "|age |credit_card_limit|profile_id                      |gender_F|gender_M|gender_O|days_since_registration|\n",
            "+----+-----------------+--------------------------------+--------+--------+--------+-----------------------+\n",
            "|NULL|NULL             |68be06ca386d4c31939f3a4f0e3dd783|0       |0       |0       |3104                   |\n",
            "|55  |112000.0         |0610b486422d4921ae7d2bf64640c50b|1       |0       |0       |2951                   |\n",
            "|NULL|NULL             |38fe809add3b4fcf9315a9694bb96ff5|0       |0       |0       |2589                   |\n",
            "+----+-----------------+--------------------------------+--------+--------+--------+-----------------------+\n",
            "only showing top 3 rows\n"
          ]
        }
      ],
      "source": [
        "\n",
        "\n",
        "profile_df = profile_df_raw.withColumnRenamed(\"id\", \"profile_id\")\n",
        "\n",
        "profile_df = profile_df \\\n",
        "       .withColumn(\"gender_F\", when(col(\"gender\") == \"F\", 1).otherwise(0)) \\\n",
        "       .withColumn(\"gender_M\", when(col(\"gender\") == \"M\", 1).otherwise(0)) \\\n",
        "       .withColumn(\"gender_O\", when(col(\"gender\") == \"O\", 1).otherwise(0)) \\\n",
        "       .drop(\"gender\")\n",
        "\n",
        "profile_df = profile_df \\\n",
        "    .withColumn(\"registered_on\", to_date(\"registered_on\", \"yyyyMMdd\")) \\\n",
        "    .withColumn(\"days_since_registration\", datediff(current_date(), \"registered_on\")) \\\n",
        "    .drop(\"registered_on\")\n",
        "\n",
        "profile_df = profile_df \\\n",
        "    .withColumn(\"age\", when(col(\"age\") == 118, lit(None)).otherwise(col(\"age\")))\n",
        "\n",
        "display_data_info_spark(profile_df, \"OFFERS\")\n"
      ]
    },
    {
      "cell_type": "markdown",
      "metadata": {},
      "source": [
        "# Transformação dos Dados - \"Transactions\"\n",
        "- Adicionada variável para visão de fúnil para eventos\n",
        "- Tratamento dos \"offer id\"\n"
      ]
    },
    {
      "cell_type": "code",
      "execution_count": 7,
      "metadata": {},
      "outputs": [
        {
          "name": "stdout",
          "output_type": "stream",
          "text": [
            "\n",
            "INFORMATIONS - PROCESSED_TRANSACTIONS\n",
            "📏 Row Count: (306534)\n",
            "🔍 Columns: ['profile_id', 'event', 'time_since_test_start', 'amount', 'offer_id', 'reward', 'funnel_step']\n",
            "root\n",
            " |-- profile_id: string (nullable = true)\n",
            " |-- event: string (nullable = true)\n",
            " |-- time_since_test_start: double (nullable = true)\n",
            " |-- amount: double (nullable = true)\n",
            " |-- offer_id: string (nullable = true)\n",
            " |-- reward: double (nullable = true)\n",
            " |-- funnel_step: integer (nullable = true)\n",
            "\n",
            "First 3 rows:\n",
            "+--------------------------------+--------------+---------------------+------+--------------------------------+------+-----------+\n",
            "|profile_id                      |event         |time_since_test_start|amount|offer_id                        |reward|funnel_step|\n",
            "+--------------------------------+--------------+---------------------+------+--------------------------------+------+-----------+\n",
            "|78afa995795e4d85b5d9ceeca43f5fef|offer received|0.0                  |NULL  |9b98b8c7a33c4b65b9aebfe6a799e6d9|NULL  |0          |\n",
            "|a03223e636434f42ac4c3df47e8bac43|offer received|0.0                  |NULL  |0b1e1539f2cc45b7b9fa7c272da2e1d7|NULL  |0          |\n",
            "|e2127556f4f64592b11af22de27a7932|offer received|0.0                  |NULL  |2906b810c7d4411798c6938adc9daaa5|NULL  |0          |\n",
            "+--------------------------------+--------------+---------------------+------+--------------------------------+------+-----------+\n",
            "only showing top 3 rows\n"
          ]
        }
      ],
      "source": [
        "transactions_df =  transactions_df_raw \\\n",
        "    .withColumnRenamed(\"account_id\", \"profile_id\")\n",
        "\n",
        "transactions_df = transactions_df \\\n",
        "    .select(\"*\" , col(\"value.*\")) \\\n",
        "    .withColumn(\"offer_id\", coalesce(col(\"offer_id\"), col(\"offer id\"))) \\\n",
        "    .drop(\"value\", \"offer id\")\n",
        "\n",
        "# sorting df\n",
        "transactions_df = transactions_df.withColumn(\"funnel_step\", \n",
        "    when(col(\"event\") == \"offer received\", 0)\n",
        "    .when(col(\"event\") == \"offer viewed\", 1)\n",
        "    .when(col(\"event\") == \"offer completed\", 2)\n",
        "    .when(col(\"event\") == \"transaction\", 3)\n",
        ")\n",
        "\n",
        "\n",
        "display_data_info_spark(transactions_df, \"PROCESSED_TRANSACTIONS\")\n"
      ]
    },
    {
      "cell_type": "code",
      "execution_count": 8,
      "metadata": {},
      "outputs": [
        {
          "name": "stdout",
          "output_type": "stream",
          "text": [
            "\n",
            "INFORMATIONS - PROCESSED_TRANSACTIONS\n",
            "📏 Row Count: (306534)\n",
            "🔍 Columns: ['offer_id', 'profile_id', 'event', 'time_since_test_start', 'amount', 'reward', 'funnel_step', 'age', 'credit_card_limit', 'gender_F', 'gender_M', 'gender_O', 'days_since_registration', 'discount_value', 'duration', 'min_value', 'offer_type_discount', 'offer_type_bogo', 'offer_type_informational', 'channel_web', 'channel_email', 'channel_mobile', 'channel_social']\n",
            "root\n",
            " |-- offer_id: string (nullable = true)\n",
            " |-- profile_id: string (nullable = true)\n",
            " |-- event: string (nullable = true)\n",
            " |-- time_since_test_start: double (nullable = true)\n",
            " |-- amount: double (nullable = true)\n",
            " |-- reward: double (nullable = true)\n",
            " |-- funnel_step: integer (nullable = true)\n",
            " |-- age: long (nullable = true)\n",
            " |-- credit_card_limit: double (nullable = true)\n",
            " |-- gender_F: integer (nullable = true)\n",
            " |-- gender_M: integer (nullable = true)\n",
            " |-- gender_O: integer (nullable = true)\n",
            " |-- days_since_registration: integer (nullable = true)\n",
            " |-- discount_value: long (nullable = true)\n",
            " |-- duration: double (nullable = true)\n",
            " |-- min_value: long (nullable = true)\n",
            " |-- offer_type_discount: integer (nullable = true)\n",
            " |-- offer_type_bogo: integer (nullable = true)\n",
            " |-- offer_type_informational: integer (nullable = true)\n",
            " |-- channel_web: integer (nullable = true)\n",
            " |-- channel_email: integer (nullable = true)\n",
            " |-- channel_mobile: integer (nullable = true)\n",
            " |-- channel_social: integer (nullable = true)\n",
            "\n",
            "First 3 rows:\n",
            "+--------------------------------+--------------------------------+--------------+---------------------+------+------+-----------+----+-----------------+--------+--------+--------+-----------------------+--------------+--------+---------+-------------------+---------------+------------------------+-----------+-------------+--------------+--------------+\n",
            "|offer_id                        |profile_id                      |event         |time_since_test_start|amount|reward|funnel_step|age |credit_card_limit|gender_F|gender_M|gender_O|days_since_registration|discount_value|duration|min_value|offer_type_discount|offer_type_bogo|offer_type_informational|channel_web|channel_email|channel_mobile|channel_social|\n",
            "+--------------------------------+--------------------------------+--------------+---------------------+------+------+-----------+----+-----------------+--------+--------+--------+-----------------------+--------------+--------+---------+-------------------+---------------+------------------------+-----------+-------------+--------------+--------------+\n",
            "|9b98b8c7a33c4b65b9aebfe6a799e6d9|78afa995795e4d85b5d9ceeca43f5fef|offer received|0.0                  |NULL  |NULL  |0          |75  |100000.0         |1       |0       |0       |3018                   |5             |7.0     |5        |0                  |1              |0                       |1          |1            |1             |0             |\n",
            "|0b1e1539f2cc45b7b9fa7c272da2e1d7|a03223e636434f42ac4c3df47e8bac43|offer received|0.0                  |NULL  |NULL  |0          |NULL|NULL             |0       |0       |0       |2931                   |5             |10.0    |20       |1                  |0              |0                       |1          |1            |0             |0             |\n",
            "|2906b810c7d4411798c6938adc9daaa5|e2127556f4f64592b11af22de27a7932|offer received|0.0                  |NULL  |NULL  |0          |68  |70000.0          |0       |1       |0       |2666                   |2             |7.0     |10       |1                  |0              |0                       |1          |1            |1             |0             |\n",
            "+--------------------------------+--------------------------------+--------------+---------------------+------+------+-----------+----+-----------------+--------+--------+--------+-----------------------+--------------+--------+---------+-------------------+---------------+------------------------+-----------+-------------+--------------+--------------+\n",
            "only showing top 3 rows\n"
          ]
        }
      ],
      "source": [
        "processed_transactions_df = transactions_df \\\n",
        "    .join(profile_df, on=\"profile_id\", how=\"left\") \\\n",
        "    .join(offers_df, on=\"offer_id\", how=\"left\")\n",
        "\n",
        "\n",
        "display_data_info_spark(processed_transactions_df, \"PROCESSED_TRANSACTIONS\")"
      ]
    },
    {
      "cell_type": "markdown",
      "metadata": {},
      "source": [
        "# Criação de \"Windows\" para criar novas variáveis para inferência causal\n",
        "- Particionar por cliente\n",
        "- Ordenação pelo tempo de iniciação do teste, etapa no funil e offer_id para facilitar o processamento na linha do tempo."
      ]
    },
    {
      "cell_type": "code",
      "execution_count": 9,
      "metadata": {},
      "outputs": [],
      "source": [
        "# Janela principal para cálculos cumulativos dentro de cada perfil de cliente.\n",
        "window_spec_cumulative = Window.partitionBy(\"profile_id\") \\\n",
        "                               .orderBy(\"time_since_test_start\", \"funnel_step\", \"offer_id\") \\\n",
        "                               .rowsBetween(Window.unboundedPreceding, Window.currentRow)\n",
        "\n",
        "# Janela auxiliar para acessar a linha anterior (lag) ou seguinte (lead).\n",
        "window_spec_lead_lag = Window.partitionBy(\"profile_id\") \\\n",
        "                           .orderBy(\"time_since_test_start\", \"funnel_step\", \"offer_id\")\n",
        "\n",
        "# Janela para propagar o último valor válido (forward-fill).\n",
        "window_ffill = Window.partitionBy(\"profile_id\") \\\n",
        "                     .orderBy(\"time_since_test_start\", \"funnel_step\", \"offer_id\") \\\n",
        "                     .rowsBetween(Window.unboundedPreceding, Window.currentRow)\n",
        "\n",
        "# Janela para cálculos dentro do escopo de uma oferta específica para um cliente.\n",
        "window_spec_offer = Window.partitionBy(\"profile_id\", \"offer_id\")"
      ]
    },
    {
      "cell_type": "markdown",
      "metadata": {},
      "source": [
        "# Criação de variáveis auxiliares\n",
        "- **Criação de coluna intermediária `is_offer_driven_transaction`**  \n",
        "  - Marca transações (`event = \"transaction\"`) que ocorrem no mesmo instante (`time_since_test_start`) e logo após (`lag`) um `offer completed`.\n",
        "\n",
        "- **Criação de flag `offer_generated_transaction`**  \n",
        "  - Marca eventos `offer completed` que são seguidos (`lead`) por uma transação no mesmo instante de tempo.\n",
        "\n",
        "- **Propagação do valor `amount`**  \n",
        "  - Para linhas `offer completed` com `offer_generated_transaction = 1`, copia o `amount` da transação vinculada (próxima linha)."
      ]
    },
    {
      "cell_type": "code",
      "execution_count": 10,
      "metadata": {},
      "outputs": [],
      "source": [
        "# is_offer_driven_transaction\n",
        "\n",
        "df_intermediate = processed_transactions_df.withColumn(\"prev_event\", F.lag(\"event\", 1).over(window_spec_lead_lag)) \\\n",
        "                                  .withColumn(\"prev_time\", F.lag(\"time_since_test_start\", 1).over(window_spec_lead_lag))\n",
        "\n",
        "df_intermediate = df_intermediate.withColumn(\n",
        "    \"is_offer_driven_transaction\",\n",
        "    F.when(\n",
        "        (F.col(\"event\") == \"transaction\") &\n",
        "        (F.col(\"prev_event\") == \"offer completed\") &\n",
        "        (F.col(\"time_since_test_start\") == F.col(\"prev_time\")),\n",
        "        1\n",
        "    ).otherwise(0)\n",
        ")\n",
        "\n",
        "#  offer_generated_transaction\n",
        "\n",
        "df_intermediate = df_intermediate.withColumn(\"next_event\", F.lead(\"event\", 1).over(window_spec_lead_lag))\n",
        "df_intermediate = df_intermediate.withColumn(\"next_time\", F.lead(\"time_since_test_start\", 1).over(window_spec_lead_lag))\n",
        "\n",
        "df_intermediate = df_intermediate.withColumn(\n",
        "    \"offer_generated_transaction\",\n",
        "    F.when(\n",
        "        (F.col(\"event\") == \"offer completed\") &\n",
        "        (F.col(\"next_event\") == \"transaction\") &\n",
        "        (F.col(\"time_since_test_start\") == F.col(\"next_time\")),\n",
        "        1\n",
        "    ).otherwise(0)\n",
        ")\n",
        "\n",
        "\n",
        "# next_amount\n",
        "df_intermediate = df_intermediate.withColumn(\"next_amount\", F.lead(\"amount\", 1).over(window_spec_lead_lag))\n",
        "df_intermediate = df_intermediate.withColumn(\n",
        "    \"amount\",\n",
        "    F.when(\n",
        "        (F.col(\"event\") == \"offer completed\") & (F.col(\"offer_generated_transaction\") == 1),\n",
        "        F.col(\"next_amount\")\n",
        "    ).otherwise(F.col(\"amount\"))\n",
        ")\n",
        "\n"
      ]
    },
    {
      "cell_type": "markdown",
      "metadata": {},
      "source": [
        "# Lógica para Contagem de Sequências (Streaks)\n",
        "\n",
        "- **Criação de `transaction_type`**  \n",
        "  - Define `1` para transações geradas por oferta, `0` para transações orgânicas e `null` para não-transações.\n",
        "\n",
        "- **Identificação de grupos de sequência (`streak_group`)**  \n",
        "  - Marca mudanças com `streak_start_flag` e acumula para formar o identificador do grupo.\n",
        "\n",
        "- **Contagem de transações por grupo (`streak_counter`)**  \n",
        "  - Conta o número de transações dentro de cada grupo, ordenadas por tempo e outras chaves de ordenação.\n",
        "\n",
        "- **Definição de contadores temporários**  \n",
        "  - `offer_streak_temp`: contador de sequência para ofertas (zera para transações orgânicas).  \n",
        "  - `organic_streak_temp`: contador de sequência para orgânicas (zera para transações de oferta).\n",
        "\n",
        "- **Propagação dos contadores**  \n",
        "  - Preenche (`ffill`) valores para linhas não-transação, fazendo eventos como `offer completed` herdarem o estado da última transação."
      ]
    },
    {
      "cell_type": "code",
      "execution_count": 11,
      "metadata": {},
      "outputs": [],
      "source": [
        "\n",
        "# transaction_type\n",
        "df_with_streaks = df_intermediate.withColumn(\n",
        "    \"transaction_type\",\n",
        "    F.when(F.col(\"event\") == \"transaction\",\n",
        "        F.when(F.col(\"is_offer_driven_transaction\") == 1, 1).otherwise(0)\n",
        "    ).otherwise(None)\n",
        ")\n",
        "\n",
        "# streak_group\n",
        "\n",
        "df_with_streaks = df_with_streaks.withColumn(\"last_valid_transaction_type\", F.last(\"transaction_type\", ignorenulls=True).over(window_ffill))\n",
        "df_with_streaks = df_with_streaks.withColumn(\"prev_last_valid_transaction_type\", F.lag(\"last_valid_transaction_type\", 1).over(window_spec_lead_lag))\n",
        "df_with_streaks = df_with_streaks.withColumn(\n",
        "    \"streak_start_flag\",\n",
        "    F.when(F.col(\"last_valid_transaction_type\") != F.col(\"prev_last_valid_transaction_type\"), 1).otherwise(0)\n",
        ")\n",
        "df_with_streaks = df_with_streaks.withColumn(\"streak_group\", F.sum(\"streak_start_flag\").over(window_spec_cumulative))\n",
        "\n",
        "# streak_counter\n",
        "\n",
        "window_spec_streak = Window.partitionBy(\"profile_id\", \"streak_group\").orderBy(\"time_since_test_start\", \"funnel_step\", \"offer_id\")\n",
        "df_with_streaks = df_with_streaks.withColumn(\n",
        "    \"streak_counter\",\n",
        "    F.sum(F.when(F.col(\"transaction_type\").isNotNull(), 1).otherwise(0)).over(window_spec_streak)\n",
        ")\n",
        "\n",
        "# offer_streak_temp e organic_streak_temp\n",
        "\n",
        "df_with_streaks = df_with_streaks.withColumn(\n",
        "    \"offer_streak_temp\",\n",
        "    F.when(F.col(\"transaction_type\") == 1, F.col(\"streak_counter\"))\n",
        "     .when(F.col(\"transaction_type\") == 0, 0)\n",
        "     .otherwise(None)\n",
        ").withColumn(\n",
        "    \"organic_streak_temp\",\n",
        "    F.when(F.col(\"transaction_type\") == 0, F.col(\"streak_counter\"))\n",
        "     .when(F.col(\"transaction_type\") == 1, 0)\n",
        "     .otherwise(None)\n",
        ")\n",
        "\n",
        "# offer_streak_counter e organic_streak_counter\n",
        "\n",
        "df_with_streaks = df_with_streaks.withColumn(\n",
        "    \"offer_streak_counter\",\n",
        "    F.coalesce(F.last(\"offer_streak_temp\", ignorenulls=True).over(window_ffill), F.lit(0))\n",
        ").withColumn(\n",
        "    \"organic_streak_counter\",\n",
        "    F.coalesce(F.last(\"organic_streak_temp\", ignorenulls=True).over(window_ffill), F.lit(0))\n",
        ")"
      ]
    },
    {
      "cell_type": "markdown",
      "metadata": {},
      "source": [
        "# Criação das Colunas Finais (Cumulativas e de Cálculo)\n",
        "\n",
        "- **Contadores cumulativos**  \n",
        "  - `cumulative_transactions`: total de transações.  \n",
        "  - `cumulative_offer_driven_transactions`: total de transações geradas por oferta.  \n",
        "  - `cumulative_organic_transactions`: total de transações orgânicas (`transações - por oferta`).  \n",
        "  - `cumulative_offers_received`: total de ofertas recebidas.  \n",
        "  - `cumulative_offers_viewed`: total de ofertas visualizadas.\n",
        "\n",
        "- **Cálculos relacionados a ofertas**  \n",
        "  - `offer_received_time`: tempo da primeira ocorrência de `offer received` no grupo da oferta.  \n",
        "  - `days_to_complete_offer`: diferença de tempo entre `offer received` e `offer completed`.\n",
        "\n",
        "- **Valores financeiros cumulativos**  \n",
        "  - `cumulative_amount`: soma acumulada de `amount` (incluindo valores propagados para `offer completed`).  \n",
        "  - `cumulative_reward`: soma acumulada de `reward`.  \n",
        "  - `reward_to_spend_ratio`: proporção entre recompensa acumulada e valor gasto acumulado."
      ]
    },
    {
      "cell_type": "code",
      "execution_count": 12,
      "metadata": {},
      "outputs": [],
      "source": [
        "final_df = df_with_streaks.withColumn(\n",
        "    \"cumulative_transactions\", F.sum(F.when(F.col(\"event\") == \"transaction\", 1).otherwise(0)).over(window_spec_cumulative)\n",
        ").withColumn(\n",
        "    \"cumulative_offer_driven_transactions\", F.sum(\"is_offer_driven_transaction\").over(window_spec_cumulative)\n",
        ").withColumn(\n",
        "    \"cumulative_organic_transactions\", F.col(\"cumulative_transactions\") - F.col(\"cumulative_offer_driven_transactions\")\n",
        ").withColumn(\n",
        "    \"cumulative_offers_received\", F.sum(F.when(F.col(\"event\") == \"offer received\", 1).otherwise(0)).over(window_spec_cumulative)\n",
        ").withColumn(\n",
        "    \"cumulative_offers_viewed\", F.sum(F.when(F.col(\"event\") == \"offer viewed\", 1).otherwise(0)).over(window_spec_cumulative)\n",
        ").withColumn(\n",
        "    \"offer_received_time\", F.first(F.when(F.col(\"event\") == \"offer received\", F.col(\"time_since_test_start\")), ignorenulls=True).over(window_spec_offer)\n",
        ").withColumn(\n",
        "    \"days_to_complete_offer\", F.when(F.col(\"event\") == \"offer completed\", F.col(\"time_since_test_start\") - F.col(\"offer_received_time\")).otherwise(None)\n",
        ").withColumn(\n",
        "    # A soma cumulativa do 'amount' agora incluirá corretamente o valor na linha 'offer completed'.\n",
        "    \"cumulative_amount\", F.sum(\"amount\").over(window_spec_cumulative)\n",
        ").withColumn(\n",
        "    \"cumulative_reward\", F.sum(\"reward\").over(window_spec_cumulative)\n",
        ").withColumn(\n",
        "    \"reward_to_spend_ratio\", F.when((F.col(\"cumulative_amount\").isNotNull()) & (F.col(\"cumulative_amount\") > 0), F.col(\"cumulative_reward\") / F.col(\"cumulative_amount\")).otherwise(0.0)\n",
        ")"
      ]
    },
    {
      "cell_type": "code",
      "execution_count": 13,
      "metadata": {},
      "outputs": [
        {
          "name": "stderr",
          "output_type": "stream",
          "text": [
            "25/08/13 08:36:01 WARN SparkStringUtils: Truncated the string representation of a plan since it was too large. This behavior can be adjusted by setting 'spark.sql.debug.maxToStringFields'.\n",
            "[Stage 39:>                                                         (0 + 8) / 8]\r"
          ]
        },
        {
          "name": "stdout",
          "output_type": "stream",
          "text": [
            "+--------------------------------+--------------------------------+---------------+---------------------+------+------+-----------+----+-----------------+--------+--------+--------+-----------------------+--------------+--------+---------+-------------------+---------------+------------------------+-----------+-------------+--------------+--------------+---------------+---------+---------------------------+---------------+---------+---------------------------+-----------+----------------+---------------------------+--------------------------------+-----------------+------------+--------------+-----------------+-------------------+--------------------+----------------------+-----------------------+------------------------------------+-------------------------------+--------------------------+------------------------+-------------------+----------------------+------------------+-----------------+---------------------+\n",
            "|offer_id                        |profile_id                      |event          |time_since_test_start|amount|reward|funnel_step|age |credit_card_limit|gender_F|gender_M|gender_O|days_since_registration|discount_value|duration|min_value|offer_type_discount|offer_type_bogo|offer_type_informational|channel_web|channel_email|channel_mobile|channel_social|prev_event     |prev_time|is_offer_driven_transaction|next_event     |next_time|offer_generated_transaction|next_amount|transaction_type|last_valid_transaction_type|prev_last_valid_transaction_type|streak_start_flag|streak_group|streak_counter|offer_streak_temp|organic_streak_temp|offer_streak_counter|organic_streak_counter|cumulative_transactions|cumulative_offer_driven_transactions|cumulative_organic_transactions|cumulative_offers_received|cumulative_offers_viewed|offer_received_time|days_to_complete_offer|cumulative_amount |cumulative_reward|reward_to_spend_ratio|\n",
            "+--------------------------------+--------------------------------+---------------+---------------------+------+------+-----------+----+-----------------+--------+--------+--------+-----------------------+--------------+--------+---------+-------------------+---------------+------------------------+-----------+-------------+--------------+--------------+---------------+---------+---------------------------+---------------+---------+---------------------------+-----------+----------------+---------------------------+--------------------------------+-----------------+------------+--------------+-----------------+-------------------+--------------------+----------------------+-----------------------+------------------------------------+-------------------------------+--------------------------+------------------------+-------------------+----------------------+------------------+-----------------+---------------------+\n",
            "|5a8bc65990b245e5a138643cd4eb9837|0009655768c64bdeb2e877511632db8f|offer received |7.0                  |NULL  |NULL  |0          |33  |72000.0          |0       |1       |0       |3036                   |0             |3.0     |0        |0                  |0              |1                       |0          |1            |1             |1             |NULL           |NULL     |0                          |offer viewed   |8.0      |0                          |NULL       |NULL            |NULL                       |NULL                            |0                |0           |0             |NULL             |NULL               |0                   |0                     |0                      |0                                   |0                              |1                         |0                       |7.0                |NULL                  |NULL              |NULL             |0.0                  |\n",
            "|5a8bc65990b245e5a138643cd4eb9837|0009655768c64bdeb2e877511632db8f|offer viewed   |8.0                  |NULL  |NULL  |1          |33  |72000.0          |0       |1       |0       |3036                   |0             |3.0     |0        |0                  |0              |1                       |0          |1            |1             |1             |offer received |7.0      |0                          |transaction    |9.5      |0                          |22.16      |NULL            |NULL                       |NULL                            |0                |0           |0             |NULL             |NULL               |0                   |0                     |0                      |0                                   |0                              |1                         |1                       |7.0                |NULL                  |NULL              |NULL             |0.0                  |\n",
            "|NULL                            |0009655768c64bdeb2e877511632db8f|transaction    |9.5                  |22.16 |NULL  |3          |33  |72000.0          |0       |1       |0       |3036                   |NULL          |NULL    |NULL     |NULL               |NULL           |NULL                    |NULL       |NULL         |NULL          |NULL          |offer viewed   |8.0      |0                          |offer received |14.0     |0                          |NULL       |0               |0                          |NULL                            |0                |0           |1             |0                |1                  |0                   |1                     |1                      |0                                   |1                              |1                         |1                       |NULL               |NULL                  |22.16             |NULL             |NULL                 |\n",
            "|3f207df678b143eea3cee63160fa8bed|0009655768c64bdeb2e877511632db8f|offer received |14.0                 |NULL  |NULL  |0          |33  |72000.0          |0       |1       |0       |3036                   |0             |4.0     |0        |0                  |0              |1                       |1          |1            |1             |0             |transaction    |9.5      |0                          |offer viewed   |15.5     |0                          |NULL       |NULL            |0                          |0                               |0                |0           |1             |NULL             |NULL               |0                   |1                     |1                      |0                                   |1                              |2                         |1                       |14.0               |NULL                  |22.16             |NULL             |NULL                 |\n",
            "|3f207df678b143eea3cee63160fa8bed|0009655768c64bdeb2e877511632db8f|offer viewed   |15.5                 |NULL  |NULL  |1          |33  |72000.0          |0       |1       |0       |3036                   |0             |4.0     |0        |0                  |0              |1                       |1          |1            |1             |0             |offer received |14.0     |0                          |offer received |17.0     |0                          |NULL       |NULL            |0                          |0                               |0                |0           |1             |NULL             |NULL               |0                   |1                     |1                      |0                                   |1                              |2                         |2                       |14.0               |NULL                  |22.16             |NULL             |NULL                 |\n",
            "|f19421c1d4aa40978ebb69ca19b0e20d|0009655768c64bdeb2e877511632db8f|offer received |17.0                 |NULL  |NULL  |0          |33  |72000.0          |0       |1       |0       |3036                   |5             |5.0     |5        |0                  |1              |0                       |1          |1            |1             |1             |offer viewed   |15.5     |0                          |offer completed|17.25    |0                          |NULL       |NULL            |0                          |0                               |0                |0           |1             |NULL             |NULL               |0                   |1                     |1                      |0                                   |1                              |3                         |2                       |17.0               |NULL                  |22.16             |NULL             |NULL                 |\n",
            "|f19421c1d4aa40978ebb69ca19b0e20d|0009655768c64bdeb2e877511632db8f|offer completed|17.25                |8.57  |5.0   |2          |33  |72000.0          |0       |1       |0       |3036                   |5             |5.0     |5        |0                  |1              |0                       |1          |1            |1             |1             |offer received |17.0     |0                          |transaction    |17.25    |1                          |8.57       |NULL            |0                          |0                               |0                |0           |1             |NULL             |NULL               |0                   |1                     |1                      |0                                   |1                              |3                         |2                       |17.0               |0.25                  |30.73             |5.0              |0.16270745200130166  |\n",
            "|NULL                            |0009655768c64bdeb2e877511632db8f|transaction    |17.25                |8.57  |NULL  |3          |33  |72000.0          |0       |1       |0       |3036                   |NULL          |NULL    |NULL     |NULL               |NULL           |NULL                    |NULL       |NULL         |NULL          |NULL          |offer completed|17.25    |1                          |offer viewed   |19.0     |0                          |NULL       |1               |1                          |0                               |1                |1           |1             |1                |0                  |1                   |0                     |2                      |1                                   |1                              |3                         |2                       |NULL               |NULL                  |39.3              |5.0              |0.1272264631043257   |\n",
            "|f19421c1d4aa40978ebb69ca19b0e20d|0009655768c64bdeb2e877511632db8f|offer viewed   |19.0                 |NULL  |NULL  |1          |33  |72000.0          |0       |1       |0       |3036                   |5             |5.0     |5        |0                  |1              |0                       |1          |1            |1             |1             |transaction    |17.25    |0                          |offer received |21.0     |0                          |NULL       |NULL            |1                          |1                               |0                |1           |1             |NULL             |NULL               |1                   |0                     |2                      |1                                   |1                              |3                         |3                       |17.0               |NULL                  |39.3              |5.0              |0.1272264631043257   |\n",
            "|fafdcd668e3743c1bb461111dcafc2a4|0009655768c64bdeb2e877511632db8f|offer received |21.0                 |NULL  |NULL  |0          |33  |72000.0          |0       |1       |0       |3036                   |2             |10.0    |10       |1                  |0              |0                       |1          |1            |1             |1             |offer viewed   |19.0     |0                          |offer completed|22.0     |0                          |NULL       |NULL            |1                          |1                               |0                |1           |1             |NULL             |NULL               |1                   |0                     |2                      |1                                   |1                              |4                         |3                       |21.0               |NULL                  |39.3              |5.0              |0.1272264631043257   |\n",
            "|fafdcd668e3743c1bb461111dcafc2a4|0009655768c64bdeb2e877511632db8f|offer completed|22.0                 |14.11 |2.0   |2          |33  |72000.0          |0       |1       |0       |3036                   |2             |10.0    |10       |1                  |0              |0                       |1          |1            |1             |1             |offer received |21.0     |0                          |transaction    |22.0     |1                          |14.11      |NULL            |1                          |1                               |0                |1           |1             |NULL             |NULL               |1                   |0                     |2                      |1                                   |1                              |4                         |3                       |21.0               |1.0                   |53.41             |7.0              |0.1310615989515072   |\n",
            "|NULL                            |0009655768c64bdeb2e877511632db8f|transaction    |22.0                 |14.11 |NULL  |3          |33  |72000.0          |0       |1       |0       |3036                   |NULL          |NULL    |NULL     |NULL               |NULL           |NULL                    |NULL       |NULL         |NULL          |NULL          |offer completed|22.0     |1                          |offer viewed   |22.5     |0                          |NULL       |1               |1                          |1                               |0                |1           |2             |2                |0                  |2                   |0                     |3                      |2                                   |1                              |4                         |3                       |NULL               |NULL                  |67.52             |7.0              |0.10367298578199052  |\n",
            "|fafdcd668e3743c1bb461111dcafc2a4|0009655768c64bdeb2e877511632db8f|offer viewed   |22.5                 |NULL  |NULL  |1          |33  |72000.0          |0       |1       |0       |3036                   |2             |10.0    |10       |1                  |0              |0                       |1          |1            |1             |1             |transaction    |22.0     |0                          |transaction    |23.0     |0                          |13.56      |NULL            |1                          |1                               |0                |1           |2             |NULL             |NULL               |2                   |0                     |3                      |2                                   |1                              |4                         |4                       |21.0               |NULL                  |67.52             |7.0              |0.10367298578199052  |\n",
            "|NULL                            |0009655768c64bdeb2e877511632db8f|transaction    |23.0                 |13.56 |NULL  |3          |33  |72000.0          |0       |1       |0       |3036                   |NULL          |NULL    |NULL     |NULL               |NULL           |NULL                    |NULL       |NULL         |NULL          |NULL          |offer viewed   |22.5     |0                          |offer received |24.0     |0                          |NULL       |0               |0                          |1                               |1                |2           |1             |0                |1                  |0                   |1                     |4                      |2                                   |2                              |4                         |4                       |NULL               |NULL                  |81.08             |7.0              |0.0863344844597928   |\n",
            "|2906b810c7d4411798c6938adc9daaa5|0009655768c64bdeb2e877511632db8f|offer received |24.0                 |NULL  |NULL  |0          |33  |72000.0          |0       |1       |0       |3036                   |2             |7.0     |10       |1                  |0              |0                       |1          |1            |1             |0             |transaction    |23.0     |0                          |offer completed|24.0     |0                          |NULL       |NULL            |0                          |0                               |0                |2           |1             |NULL             |NULL               |0                   |1                     |4                      |2                                   |2                              |5                         |4                       |24.0               |NULL                  |81.08             |7.0              |0.0863344844597928   |\n",
            "|2906b810c7d4411798c6938adc9daaa5|0009655768c64bdeb2e877511632db8f|offer completed|24.0                 |10.27 |2.0   |2          |33  |72000.0          |0       |1       |0       |3036                   |2             |7.0     |10       |1                  |0              |0                       |1          |1            |1             |0             |offer received |24.0     |0                          |transaction    |24.0     |1                          |10.27      |NULL            |0                          |0                               |0                |2           |1             |NULL             |NULL               |0                   |1                     |4                      |2                                   |2                              |5                         |4                       |24.0               |0.0                   |91.35             |9.0              |0.09852216748768473  |\n",
            "|NULL                            |0009655768c64bdeb2e877511632db8f|transaction    |24.0                 |10.27 |NULL  |3          |33  |72000.0          |0       |1       |0       |3036                   |NULL          |NULL    |NULL     |NULL               |NULL           |NULL                    |NULL       |NULL         |NULL          |NULL          |offer completed|24.0     |1                          |transaction    |27.5     |0                          |12.36      |1               |1                          |0                               |1                |3           |1             |1                |0                  |1                   |0                     |5                      |3                                   |2                              |5                         |4                       |NULL               |NULL                  |101.61999999999999|9.0              |0.0885652430623893   |\n",
            "|NULL                            |0009655768c64bdeb2e877511632db8f|transaction    |27.5                 |12.36 |NULL  |3          |33  |72000.0          |0       |1       |0       |3036                   |NULL          |NULL    |NULL     |NULL               |NULL           |NULL                    |NULL       |NULL         |NULL          |NULL          |transaction    |24.0     |0                          |transaction    |28.75    |0                          |28.16      |0               |0                          |1                               |1                |4           |1             |0                |1                  |0                   |1                     |6                      |3                                   |3                              |5                         |4                       |NULL               |NULL                  |113.97999999999999|9.0              |0.07896122126688894  |\n",
            "|NULL                            |0009655768c64bdeb2e877511632db8f|transaction    |28.75                |28.16 |NULL  |3          |33  |72000.0          |0       |1       |0       |3036                   |NULL          |NULL    |NULL     |NULL               |NULL           |NULL                    |NULL       |NULL         |NULL          |NULL          |transaction    |27.5     |0                          |transaction    |29.0     |0                          |18.41      |0               |0                          |0                               |0                |4           |2             |0                |2                  |0                   |2                     |7                      |3                                   |4                              |5                         |4                       |NULL               |NULL                  |142.14            |9.0              |0.06331785563528916  |\n",
            "|NULL                            |0009655768c64bdeb2e877511632db8f|transaction    |29.0                 |18.41 |NULL  |3          |33  |72000.0          |0       |1       |0       |3036                   |NULL          |NULL    |NULL     |NULL               |NULL           |NULL                    |NULL       |NULL         |NULL          |NULL          |transaction    |28.75    |0                          |NULL           |NULL     |0                          |NULL       |0               |0                          |0                               |0                |4           |3             |0                |3                  |0                   |3                     |8                      |3                                   |5                              |5                         |4                       |NULL               |NULL                  |160.54999999999998|9.0              |0.05605730302086578  |\n",
            "|f19421c1d4aa40978ebb69ca19b0e20d|00116118485d4dfda04fdbaba9a87b5c|offer received |7.0                  |NULL  |NULL  |0          |NULL|NULL             |0       |0       |0       |2667                   |5             |5.0     |5        |0                  |1              |0                       |1          |1            |1             |1             |NULL           |NULL     |0                          |offer viewed   |9.0      |0                          |NULL       |NULL            |NULL                       |NULL                            |0                |0           |0             |NULL             |NULL               |0                   |0                     |0                      |0                                   |0                              |1                         |0                       |7.0                |NULL                  |NULL              |NULL             |0.0                  |\n",
            "|f19421c1d4aa40978ebb69ca19b0e20d|00116118485d4dfda04fdbaba9a87b5c|offer viewed   |9.0                  |NULL  |NULL  |1          |NULL|NULL             |0       |0       |0       |2667                   |5             |5.0     |5        |0                  |1              |0                       |1          |1            |1             |1             |offer received |7.0      |0                          |transaction    |12.25    |0                          |0.7        |NULL            |NULL                       |NULL                            |0                |0           |0             |NULL             |NULL               |0                   |0                     |0                      |0                                   |0                              |1                         |1                       |7.0                |NULL                  |NULL              |NULL             |0.0                  |\n",
            "|NULL                            |00116118485d4dfda04fdbaba9a87b5c|transaction    |12.25                |0.7   |NULL  |3          |NULL|NULL             |0       |0       |0       |2667                   |NULL          |NULL    |NULL     |NULL               |NULL           |NULL                    |NULL       |NULL         |NULL          |NULL          |offer viewed   |9.0      |0                          |transaction    |19.0     |0                          |0.2        |0               |0                          |NULL                            |0                |0           |1             |0                |1                  |0                   |1                     |1                      |0                                   |1                              |1                         |1                       |NULL               |NULL                  |0.7               |NULL             |NULL                 |\n",
            "|NULL                            |00116118485d4dfda04fdbaba9a87b5c|transaction    |19.0                 |0.2   |NULL  |3          |NULL|NULL             |0       |0       |0       |2667                   |NULL          |NULL    |NULL     |NULL               |NULL           |NULL                    |NULL       |NULL         |NULL          |NULL          |transaction    |12.25    |0                          |transaction    |19.75    |0                          |3.19       |0               |0                          |0                               |0                |0           |2             |0                |2                  |0                   |2                     |2                      |0                                   |2                              |1                         |1                       |NULL               |NULL                  |0.8999999999999999|NULL             |NULL                 |\n",
            "|NULL                            |00116118485d4dfda04fdbaba9a87b5c|transaction    |19.75                |3.19  |NULL  |3          |NULL|NULL             |0       |0       |0       |2667                   |NULL          |NULL    |NULL     |NULL               |NULL           |NULL                    |NULL       |NULL         |NULL          |NULL          |transaction    |19.0     |0                          |offer received |24.0     |0                          |NULL       |0               |0                          |0                               |0                |0           |3             |0                |3                  |0                   |3                     |3                      |0                                   |3                              |1                         |1                       |NULL               |NULL                  |4.09              |NULL             |NULL                 |\n",
            "|f19421c1d4aa40978ebb69ca19b0e20d|00116118485d4dfda04fdbaba9a87b5c|offer received |24.0                 |NULL  |NULL  |0          |NULL|NULL             |0       |0       |0       |2667                   |5             |5.0     |5        |0                  |1              |0                       |1          |1            |1             |1             |transaction    |19.75    |0                          |offer viewed   |26.25    |0                          |NULL       |NULL            |0                          |0                               |0                |0           |3             |NULL             |NULL               |0                   |3                     |3                      |0                                   |3                              |2                         |1                       |7.0                |NULL                  |4.09              |NULL             |NULL                 |\n",
            "|f19421c1d4aa40978ebb69ca19b0e20d|00116118485d4dfda04fdbaba9a87b5c|offer viewed   |26.25                |NULL  |NULL  |1          |NULL|NULL             |0       |0       |0       |2667                   |5             |5.0     |5        |0                  |1              |0                       |1          |1            |1             |1             |offer received |24.0     |0                          |NULL           |NULL     |0                          |NULL       |NULL            |0                          |0                               |0                |0           |3             |NULL             |NULL               |0                   |3                     |3                      |0                                   |3                              |2                         |2                       |7.0                |NULL                  |4.09              |NULL             |NULL                 |\n",
            "|3f207df678b143eea3cee63160fa8bed|0011e0d4e6b944f998e987f904e8c1e5|offer received |0.0                  |NULL  |NULL  |0          |40  |57000.0          |0       |0       |1       |2773                   |0             |4.0     |0        |0                  |0              |1                       |1          |1            |1             |0             |NULL           |NULL     |0                          |offer viewed   |0.25     |0                          |NULL       |NULL            |NULL                       |NULL                            |0                |0           |0             |NULL             |NULL               |0                   |0                     |0                      |0                                   |0                              |1                         |0                       |0.0                |NULL                  |NULL              |NULL             |0.0                  |\n",
            "|3f207df678b143eea3cee63160fa8bed|0011e0d4e6b944f998e987f904e8c1e5|offer viewed   |0.25                 |NULL  |NULL  |1          |40  |57000.0          |0       |0       |1       |2773                   |0             |4.0     |0        |0                  |0              |1                       |1          |1            |1             |0             |offer received |0.0      |0                          |transaction    |5.5      |0                          |13.49      |NULL            |NULL                       |NULL                            |0                |0           |0             |NULL             |NULL               |0                   |0                     |0                      |0                                   |0                              |1                         |1                       |0.0                |NULL                  |NULL              |NULL             |0.0                  |\n",
            "|NULL                            |0011e0d4e6b944f998e987f904e8c1e5|transaction    |5.5                  |13.49 |NULL  |3          |40  |57000.0          |0       |0       |1       |2773                   |NULL          |NULL    |NULL     |NULL               |NULL           |NULL                    |NULL       |NULL         |NULL          |NULL          |offer viewed   |0.25     |0                          |offer received |7.0      |0                          |NULL       |0               |0                          |NULL                            |0                |0           |1             |0                |1                  |0                   |1                     |1                      |0                                   |1                              |1                         |1                       |NULL               |NULL                  |13.49             |NULL             |NULL                 |\n",
            "+--------------------------------+--------------------------------+---------------+---------------------+------+------+-----------+----+-----------------+--------+--------+--------+-----------------------+--------------+--------+---------+-------------------+---------------+------------------------+-----------+-------------+--------------+--------------+---------------+---------+---------------------------+---------------+---------+---------------------------+-----------+----------------+---------------------------+--------------------------------+-----------------+------------+--------------+-----------------+-------------------+--------------------+----------------------+-----------------------+------------------------------------+-------------------------------+--------------------------+------------------------+-------------------+----------------------+------------------+-----------------+---------------------+\n",
            "only showing top 30 rows\n"
          ]
        },
        {
          "name": "stderr",
          "output_type": "stream",
          "text": [
            "                                                                                \r"
          ]
        }
      ],
      "source": [
        "final_df = final_df.orderBy(\"profile_id\", \"time_since_test_start\", \"funnel_step\", \"offer_id\")\n",
        "\n",
        "final_df.show(30, truncate=False)"
      ]
    },
    {
      "cell_type": "markdown",
      "metadata": {},
      "source": [
        "# Seleção do Estado Final de Cada Oferta\n",
        "\n",
        "- **Filtragem inicial**  \n",
        "  - Mantém apenas registros com `offer_id` válido, removendo transações não associadas a ofertas.\n",
        "\n",
        "- **Definição de janela (`window_spec_last_event`)**  \n",
        "  - Particiona por `profile_id` e `offer_id`.  \n",
        "  - Ordena de forma descendente por `funnel_step` e `time_since_test_start`.\n",
        "\n",
        "- **Atribuição de ranking (`rank`)**  \n",
        "  - Usa `row_number()` para numerar eventos dentro de cada grupo.  \n",
        "\n",
        "- **Seleção do estado final da oferta**  \n",
        "  - Filtra para manter apenas linhas com `rank = 1`, resultando em uma única entrada por `(profile_id, offer_id)`."
      ]
    },
    {
      "cell_type": "code",
      "execution_count": 14,
      "metadata": {},
      "outputs": [],
      "source": [
        "final_df = final_df.where(F.col(\"offer_id\").isNotNull())\n",
        "\n",
        "window_spec_last_event = Window.partitionBy(\"profile_id\", \"offer_id\") \\\n",
        "                               .orderBy(F.col(\"funnel_step\").desc(), F.col(\"time_since_test_start\").desc())\n",
        "\n",
        "final_df_ranked = final_df.withColumn(\n",
        "    \"rank\", F.row_number().over(window_spec_last_event))\n",
        "\n",
        "offers_processed = final_df_ranked.where(F.col(\"rank\") == 1).drop(\"rank\")"
      ]
    },
    {
      "cell_type": "markdown",
      "metadata": {},
      "source": [
        "# Exibição e Limpeza do Resultado Final\n",
        "\n",
        "- **Remoção de colunas auxiliares**  \n",
        "  - Exclui variáveis intermediárias e de controle, como `event`, `prev_event`, `streak_group`, entre outras.\n",
        "\n",
        "- **Ajuste de formatação**  \n",
        "  - Arredonda `cumulative_amount` para 2 casas decimais.  \n",
        "  - Arredonda `reward_to_spend_ratio` para 4 casas decimais.\n",
        "\n",
        "- **Resultado**  \n",
        "  - DataFrame final possui uma linha por `(profile_id, offer_id)`.  \n",
        "  - Contém apenas o último estado da oferta, sem registros de transações orgânicas."
      ]
    },
    {
      "cell_type": "code",
      "execution_count": 17,
      "metadata": {},
      "outputs": [
        {
          "name": "stderr",
          "output_type": "stream",
          "text": [
            "                                                                                \r"
          ]
        },
        {
          "data": {
            "text/plain": [
              "63288"
            ]
          },
          "execution_count": 17,
          "metadata": {},
          "output_type": "execute_result"
        }
      ],
      "source": [
        "columns_to_drop = [\"event\", \"reward\", \"prev_event\", \"prev_time\", \"next_event\", \"next_time\", \"next_amount\", \"transaction_type\", \"streak_group\", \"streak_counter\", \"last_valid_transaction_type\", \"prev_last_valid_transaction_type\", \"streak_start_flag\", \"is_offer_driven_transaction\", \"offer_streak_temp\", \"organic_streak_temp\"]\n",
        "offers_processed = offers_processed \\\n",
        "    .drop(*columns_to_drop)\\\n",
        "    .withColumn(\"cumulative_amount\", F.round(F.col(\"cumulative_amount\"), 2)) \\\n",
        "    .withColumn(\"reward_to_spend_ratio\", F.round(F.col(\"reward_to_spend_ratio\"), 4))\n",
        "\n",
        "\n",
        "offers_processed.count()\n",
        "# offers_processed.show(50, truncate=False)"
      ]
    },
    {
      "cell_type": "code",
      "execution_count": 16,
      "metadata": {},
      "outputs": [
        {
          "name": "stderr",
          "output_type": "stream",
          "text": [
            "                                                                                \r"
          ]
        }
      ],
      "source": [
        "offers_processed.write.mode(\"overwrite\").parquet(\"../data/processed/offers_processed.parquet\")"
      ]
    },
    {
      "cell_type": "code",
      "execution_count": null,
      "metadata": {},
      "outputs": [],
      "source": []
    }
  ],
  "metadata": {
    "kernelspec": {
      "display_name": ".venv",
      "language": "python",
      "name": "python3"
    },
    "language_info": {
      "codemirror_mode": {
        "name": "ipython",
        "version": 3
      },
      "file_extension": ".py",
      "mimetype": "text/x-python",
      "name": "python",
      "nbconvert_exporter": "python",
      "pygments_lexer": "ipython3",
      "version": "3.13.3"
    }
  },
  "nbformat": 4,
  "nbformat_minor": 2
}
